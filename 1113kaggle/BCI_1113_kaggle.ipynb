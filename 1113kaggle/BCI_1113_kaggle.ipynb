{
  "cells": [
    {
      "cell_type": "code",
      "execution_count": 1,
      "metadata": {
        "colab": {
          "base_uri": "https://localhost:8080/"
        },
        "id": "oHN2AYTBAL3Z",
        "outputId": "7c9f6186-7e93-43c2-e17e-03a453549150"
      },
      "outputs": [
        {
          "output_type": "stream",
          "name": "stdout",
          "text": [
            "Tensorflow version: 2.9.2\n"
          ]
        }
      ],
      "source": [
        "import pandas as pd\n",
        "import numpy as np\n",
        "import seaborn as sns\n",
        "import matplotlib.pyplot as plt\n",
        "import tensorflow as tf\n",
        "from sklearn.model_selection import train_test_split\n",
        "from sklearn.metrics import confusion_matrix, classification_report\n",
        "\n",
        "%matplotlib inline\n",
        "\n",
        "print(f'Tensorflow version: {tf.__version__}')"
      ]
    },
    {
      "cell_type": "markdown",
      "metadata": {
        "id": "Em-sCWGHfOIJ"
      },
      "source": [
        "# 1. Loading Data"
      ]
    },
    {
      "cell_type": "code",
      "execution_count": 5,
      "metadata": {
        "id": "1C5L0I2LfM7Q",
        "colab": {
          "base_uri": "https://localhost:8080/"
        },
        "outputId": "93f48c14-5242-448d-b022-23d21a7adf77"
      },
      "outputs": [
        {
          "output_type": "stream",
          "name": "stdout",
          "text": [
            "Drive already mounted at /content/drive; to attempt to forcibly remount, call drive.mount(\"/content/drive\", force_remount=True).\n"
          ]
        }
      ],
      "source": [
        "# Google Colab 連線至雲端\n",
        "from google.colab import drive\n",
        "drive.mount('/content/drive')"
      ]
    },
    {
      "cell_type": "code",
      "execution_count": 6,
      "metadata": {
        "id": "YldUmzbd5G_x"
      },
      "outputs": [],
      "source": [
        "# 讀取資料: pd.read_csv('檔案路徑')\n",
        "df=pd.read_csv('/content/drive/MyDrive/大三上/BCI/Train_data.csv')"
      ]
    },
    {
      "cell_type": "code",
      "execution_count": 7,
      "metadata": {
        "colab": {
          "base_uri": "https://localhost:8080/",
          "height": 206
        },
        "id": "c7sLgDrj5TMs",
        "outputId": "79daab34-2768-496b-940f-5e86d1b576f8"
      },
      "outputs": [
        {
          "output_type": "execute_result",
          "data": {
            "text/plain": [
              "    age gender  height_cm  weight_kg  body fat_%  diastolic  systolic  \\\n",
              "0  29.0      F      158.5      53.32        23.1       78.0     138.0   \n",
              "1  55.0      M      168.0      63.10        18.3       69.0     116.0   \n",
              "2  21.0      M      170.4     107.90        42.1       85.0     136.0   \n",
              "3  21.0      F      162.4      62.20        33.9       69.0     121.0   \n",
              "4  40.0      M      164.0      79.10        31.1       85.0     142.0   \n",
              "\n",
              "   gripForce  sit and bend forward_cm  sit-ups counts  broad jump_cm class  \n",
              "0       28.4                     19.2            43.0          169.0     A  \n",
              "1       38.7                     17.5            34.0          195.0     B  \n",
              "2       49.5                      5.9            37.0          200.0     D  \n",
              "3       29.3                     22.2            41.0          185.0     B  \n",
              "4       29.0                      3.2            35.0          181.0     D  "
            ],
            "text/html": [
              "\n",
              "  <div id=\"df-752caae0-bbc2-442d-96f0-a56c54814080\">\n",
              "    <div class=\"colab-df-container\">\n",
              "      <div>\n",
              "<style scoped>\n",
              "    .dataframe tbody tr th:only-of-type {\n",
              "        vertical-align: middle;\n",
              "    }\n",
              "\n",
              "    .dataframe tbody tr th {\n",
              "        vertical-align: top;\n",
              "    }\n",
              "\n",
              "    .dataframe thead th {\n",
              "        text-align: right;\n",
              "    }\n",
              "</style>\n",
              "<table border=\"1\" class=\"dataframe\">\n",
              "  <thead>\n",
              "    <tr style=\"text-align: right;\">\n",
              "      <th></th>\n",
              "      <th>age</th>\n",
              "      <th>gender</th>\n",
              "      <th>height_cm</th>\n",
              "      <th>weight_kg</th>\n",
              "      <th>body fat_%</th>\n",
              "      <th>diastolic</th>\n",
              "      <th>systolic</th>\n",
              "      <th>gripForce</th>\n",
              "      <th>sit and bend forward_cm</th>\n",
              "      <th>sit-ups counts</th>\n",
              "      <th>broad jump_cm</th>\n",
              "      <th>class</th>\n",
              "    </tr>\n",
              "  </thead>\n",
              "  <tbody>\n",
              "    <tr>\n",
              "      <th>0</th>\n",
              "      <td>29.0</td>\n",
              "      <td>F</td>\n",
              "      <td>158.5</td>\n",
              "      <td>53.32</td>\n",
              "      <td>23.1</td>\n",
              "      <td>78.0</td>\n",
              "      <td>138.0</td>\n",
              "      <td>28.4</td>\n",
              "      <td>19.2</td>\n",
              "      <td>43.0</td>\n",
              "      <td>169.0</td>\n",
              "      <td>A</td>\n",
              "    </tr>\n",
              "    <tr>\n",
              "      <th>1</th>\n",
              "      <td>55.0</td>\n",
              "      <td>M</td>\n",
              "      <td>168.0</td>\n",
              "      <td>63.10</td>\n",
              "      <td>18.3</td>\n",
              "      <td>69.0</td>\n",
              "      <td>116.0</td>\n",
              "      <td>38.7</td>\n",
              "      <td>17.5</td>\n",
              "      <td>34.0</td>\n",
              "      <td>195.0</td>\n",
              "      <td>B</td>\n",
              "    </tr>\n",
              "    <tr>\n",
              "      <th>2</th>\n",
              "      <td>21.0</td>\n",
              "      <td>M</td>\n",
              "      <td>170.4</td>\n",
              "      <td>107.90</td>\n",
              "      <td>42.1</td>\n",
              "      <td>85.0</td>\n",
              "      <td>136.0</td>\n",
              "      <td>49.5</td>\n",
              "      <td>5.9</td>\n",
              "      <td>37.0</td>\n",
              "      <td>200.0</td>\n",
              "      <td>D</td>\n",
              "    </tr>\n",
              "    <tr>\n",
              "      <th>3</th>\n",
              "      <td>21.0</td>\n",
              "      <td>F</td>\n",
              "      <td>162.4</td>\n",
              "      <td>62.20</td>\n",
              "      <td>33.9</td>\n",
              "      <td>69.0</td>\n",
              "      <td>121.0</td>\n",
              "      <td>29.3</td>\n",
              "      <td>22.2</td>\n",
              "      <td>41.0</td>\n",
              "      <td>185.0</td>\n",
              "      <td>B</td>\n",
              "    </tr>\n",
              "    <tr>\n",
              "      <th>4</th>\n",
              "      <td>40.0</td>\n",
              "      <td>M</td>\n",
              "      <td>164.0</td>\n",
              "      <td>79.10</td>\n",
              "      <td>31.1</td>\n",
              "      <td>85.0</td>\n",
              "      <td>142.0</td>\n",
              "      <td>29.0</td>\n",
              "      <td>3.2</td>\n",
              "      <td>35.0</td>\n",
              "      <td>181.0</td>\n",
              "      <td>D</td>\n",
              "    </tr>\n",
              "  </tbody>\n",
              "</table>\n",
              "</div>\n",
              "      <button class=\"colab-df-convert\" onclick=\"convertToInteractive('df-752caae0-bbc2-442d-96f0-a56c54814080')\"\n",
              "              title=\"Convert this dataframe to an interactive table.\"\n",
              "              style=\"display:none;\">\n",
              "        \n",
              "  <svg xmlns=\"http://www.w3.org/2000/svg\" height=\"24px\"viewBox=\"0 0 24 24\"\n",
              "       width=\"24px\">\n",
              "    <path d=\"M0 0h24v24H0V0z\" fill=\"none\"/>\n",
              "    <path d=\"M18.56 5.44l.94 2.06.94-2.06 2.06-.94-2.06-.94-.94-2.06-.94 2.06-2.06.94zm-11 1L8.5 8.5l.94-2.06 2.06-.94-2.06-.94L8.5 2.5l-.94 2.06-2.06.94zm10 10l.94 2.06.94-2.06 2.06-.94-2.06-.94-.94-2.06-.94 2.06-2.06.94z\"/><path d=\"M17.41 7.96l-1.37-1.37c-.4-.4-.92-.59-1.43-.59-.52 0-1.04.2-1.43.59L10.3 9.45l-7.72 7.72c-.78.78-.78 2.05 0 2.83L4 21.41c.39.39.9.59 1.41.59.51 0 1.02-.2 1.41-.59l7.78-7.78 2.81-2.81c.8-.78.8-2.07 0-2.86zM5.41 20L4 18.59l7.72-7.72 1.47 1.35L5.41 20z\"/>\n",
              "  </svg>\n",
              "      </button>\n",
              "      \n",
              "  <style>\n",
              "    .colab-df-container {\n",
              "      display:flex;\n",
              "      flex-wrap:wrap;\n",
              "      gap: 12px;\n",
              "    }\n",
              "\n",
              "    .colab-df-convert {\n",
              "      background-color: #E8F0FE;\n",
              "      border: none;\n",
              "      border-radius: 50%;\n",
              "      cursor: pointer;\n",
              "      display: none;\n",
              "      fill: #1967D2;\n",
              "      height: 32px;\n",
              "      padding: 0 0 0 0;\n",
              "      width: 32px;\n",
              "    }\n",
              "\n",
              "    .colab-df-convert:hover {\n",
              "      background-color: #E2EBFA;\n",
              "      box-shadow: 0px 1px 2px rgba(60, 64, 67, 0.3), 0px 1px 3px 1px rgba(60, 64, 67, 0.15);\n",
              "      fill: #174EA6;\n",
              "    }\n",
              "\n",
              "    [theme=dark] .colab-df-convert {\n",
              "      background-color: #3B4455;\n",
              "      fill: #D2E3FC;\n",
              "    }\n",
              "\n",
              "    [theme=dark] .colab-df-convert:hover {\n",
              "      background-color: #434B5C;\n",
              "      box-shadow: 0px 1px 3px 1px rgba(0, 0, 0, 0.15);\n",
              "      filter: drop-shadow(0px 1px 2px rgba(0, 0, 0, 0.3));\n",
              "      fill: #FFFFFF;\n",
              "    }\n",
              "  </style>\n",
              "\n",
              "      <script>\n",
              "        const buttonEl =\n",
              "          document.querySelector('#df-752caae0-bbc2-442d-96f0-a56c54814080 button.colab-df-convert');\n",
              "        buttonEl.style.display =\n",
              "          google.colab.kernel.accessAllowed ? 'block' : 'none';\n",
              "\n",
              "        async function convertToInteractive(key) {\n",
              "          const element = document.querySelector('#df-752caae0-bbc2-442d-96f0-a56c54814080');\n",
              "          const dataTable =\n",
              "            await google.colab.kernel.invokeFunction('convertToInteractive',\n",
              "                                                     [key], {});\n",
              "          if (!dataTable) return;\n",
              "\n",
              "          const docLinkHtml = 'Like what you see? Visit the ' +\n",
              "            '<a target=\"_blank\" href=https://colab.research.google.com/notebooks/data_table.ipynb>data table notebook</a>'\n",
              "            + ' to learn more about interactive tables.';\n",
              "          element.innerHTML = '';\n",
              "          dataTable['output_type'] = 'display_data';\n",
              "          await google.colab.output.renderOutput(dataTable, element);\n",
              "          const docLink = document.createElement('div');\n",
              "          docLink.innerHTML = docLinkHtml;\n",
              "          element.appendChild(docLink);\n",
              "        }\n",
              "      </script>\n",
              "    </div>\n",
              "  </div>\n",
              "  "
            ]
          },
          "metadata": {},
          "execution_count": 7
        }
      ],
      "source": [
        "# 觀察資料型態: df.head()\n",
        "df.head()"
      ]
    },
    {
      "cell_type": "markdown",
      "metadata": {
        "id": "1BbR5aXfhCfr"
      },
      "source": [
        "# 2 Data Preprocessing\n"
      ]
    },
    {
      "cell_type": "code",
      "execution_count": 8,
      "metadata": {
        "colab": {
          "base_uri": "https://localhost:8080/"
        },
        "id": "bJeC3dJxASVF",
        "outputId": "2915a68d-109d-48b2-eeed-d0a1b4577948"
      },
      "outputs": [
        {
          "output_type": "execute_result",
          "data": {
            "text/plain": [
              "age                        2\n",
              "gender                     0\n",
              "height_cm                  1\n",
              "weight_kg                  1\n",
              "body fat_%                 3\n",
              "diastolic                  4\n",
              "systolic                   1\n",
              "gripForce                  3\n",
              "sit and bend forward_cm    2\n",
              "sit-ups counts             6\n",
              "broad jump_cm              4\n",
              "class                      2\n",
              "dtype: int64"
            ]
          },
          "metadata": {},
          "execution_count": 8
        }
      ],
      "source": [
        "# 觀察是否有缺失值: df.isnull().sum()\n",
        "df.isnull().sum()"
      ]
    },
    {
      "cell_type": "code",
      "execution_count": 9,
      "metadata": {
        "colab": {
          "base_uri": "https://localhost:8080/"
        },
        "id": "RvwAvbx_hFMx",
        "outputId": "c32687fd-28d6-43ce-b49b-599139be0562"
      },
      "outputs": [
        {
          "output_type": "execute_result",
          "data": {
            "text/plain": [
              "age                        0\n",
              "gender                     0\n",
              "height_cm                  0\n",
              "weight_kg                  0\n",
              "body fat_%                 0\n",
              "diastolic                  0\n",
              "systolic                   0\n",
              "gripForce                  0\n",
              "sit and bend forward_cm    0\n",
              "sit-ups counts             0\n",
              "broad jump_cm              0\n",
              "class                      0\n",
              "dtype: int64"
            ]
          },
          "metadata": {},
          "execution_count": 9
        }
      ],
      "source": [
        "# 移除缺失值: \n",
        "# 1. 找到缺失值的 index : 利用 df[特徵值欄位].isna() 以及 df[].index\n",
        "# 2. df.drop(缺失值之 index)\n",
        "# 觀察是否已移除所有缺失值: df.isnull().sum()\n",
        "df.dropna(axis=0,how='any',inplace=True)\n",
        "df.isnull().sum()"
      ]
    },
    {
      "cell_type": "markdown",
      "metadata": {
        "id": "VyM7vXgsj0by"
      },
      "source": [
        "## 2.2 Feature Encoding: Gender Feature [M and F -> 1 and 0]"
      ]
    },
    {
      "cell_type": "code",
      "execution_count": 10,
      "metadata": {
        "colab": {
          "base_uri": "https://localhost:8080/",
          "height": 206
        },
        "id": "DgWxP2kPx2se",
        "outputId": "990b298a-899c-447e-b83f-2740585e5f56"
      },
      "outputs": [
        {
          "output_type": "execute_result",
          "data": {
            "text/plain": [
              "    age  gender  height_cm  weight_kg  body fat_%  diastolic  systolic  \\\n",
              "0  29.0       0      158.5      53.32        23.1       78.0     138.0   \n",
              "1  55.0       1      168.0      63.10        18.3       69.0     116.0   \n",
              "2  21.0       1      170.4     107.90        42.1       85.0     136.0   \n",
              "3  21.0       0      162.4      62.20        33.9       69.0     121.0   \n",
              "4  40.0       1      164.0      79.10        31.1       85.0     142.0   \n",
              "\n",
              "   gripForce  sit and bend forward_cm  sit-ups counts  broad jump_cm class  \n",
              "0       28.4                     19.2            43.0          169.0     A  \n",
              "1       38.7                     17.5            34.0          195.0     B  \n",
              "2       49.5                      5.9            37.0          200.0     D  \n",
              "3       29.3                     22.2            41.0          185.0     B  \n",
              "4       29.0                      3.2            35.0          181.0     D  "
            ],
            "text/html": [
              "\n",
              "  <div id=\"df-c63e98b1-146f-4ce0-b74a-25d5f7b35d72\">\n",
              "    <div class=\"colab-df-container\">\n",
              "      <div>\n",
              "<style scoped>\n",
              "    .dataframe tbody tr th:only-of-type {\n",
              "        vertical-align: middle;\n",
              "    }\n",
              "\n",
              "    .dataframe tbody tr th {\n",
              "        vertical-align: top;\n",
              "    }\n",
              "\n",
              "    .dataframe thead th {\n",
              "        text-align: right;\n",
              "    }\n",
              "</style>\n",
              "<table border=\"1\" class=\"dataframe\">\n",
              "  <thead>\n",
              "    <tr style=\"text-align: right;\">\n",
              "      <th></th>\n",
              "      <th>age</th>\n",
              "      <th>gender</th>\n",
              "      <th>height_cm</th>\n",
              "      <th>weight_kg</th>\n",
              "      <th>body fat_%</th>\n",
              "      <th>diastolic</th>\n",
              "      <th>systolic</th>\n",
              "      <th>gripForce</th>\n",
              "      <th>sit and bend forward_cm</th>\n",
              "      <th>sit-ups counts</th>\n",
              "      <th>broad jump_cm</th>\n",
              "      <th>class</th>\n",
              "    </tr>\n",
              "  </thead>\n",
              "  <tbody>\n",
              "    <tr>\n",
              "      <th>0</th>\n",
              "      <td>29.0</td>\n",
              "      <td>0</td>\n",
              "      <td>158.5</td>\n",
              "      <td>53.32</td>\n",
              "      <td>23.1</td>\n",
              "      <td>78.0</td>\n",
              "      <td>138.0</td>\n",
              "      <td>28.4</td>\n",
              "      <td>19.2</td>\n",
              "      <td>43.0</td>\n",
              "      <td>169.0</td>\n",
              "      <td>A</td>\n",
              "    </tr>\n",
              "    <tr>\n",
              "      <th>1</th>\n",
              "      <td>55.0</td>\n",
              "      <td>1</td>\n",
              "      <td>168.0</td>\n",
              "      <td>63.10</td>\n",
              "      <td>18.3</td>\n",
              "      <td>69.0</td>\n",
              "      <td>116.0</td>\n",
              "      <td>38.7</td>\n",
              "      <td>17.5</td>\n",
              "      <td>34.0</td>\n",
              "      <td>195.0</td>\n",
              "      <td>B</td>\n",
              "    </tr>\n",
              "    <tr>\n",
              "      <th>2</th>\n",
              "      <td>21.0</td>\n",
              "      <td>1</td>\n",
              "      <td>170.4</td>\n",
              "      <td>107.90</td>\n",
              "      <td>42.1</td>\n",
              "      <td>85.0</td>\n",
              "      <td>136.0</td>\n",
              "      <td>49.5</td>\n",
              "      <td>5.9</td>\n",
              "      <td>37.0</td>\n",
              "      <td>200.0</td>\n",
              "      <td>D</td>\n",
              "    </tr>\n",
              "    <tr>\n",
              "      <th>3</th>\n",
              "      <td>21.0</td>\n",
              "      <td>0</td>\n",
              "      <td>162.4</td>\n",
              "      <td>62.20</td>\n",
              "      <td>33.9</td>\n",
              "      <td>69.0</td>\n",
              "      <td>121.0</td>\n",
              "      <td>29.3</td>\n",
              "      <td>22.2</td>\n",
              "      <td>41.0</td>\n",
              "      <td>185.0</td>\n",
              "      <td>B</td>\n",
              "    </tr>\n",
              "    <tr>\n",
              "      <th>4</th>\n",
              "      <td>40.0</td>\n",
              "      <td>1</td>\n",
              "      <td>164.0</td>\n",
              "      <td>79.10</td>\n",
              "      <td>31.1</td>\n",
              "      <td>85.0</td>\n",
              "      <td>142.0</td>\n",
              "      <td>29.0</td>\n",
              "      <td>3.2</td>\n",
              "      <td>35.0</td>\n",
              "      <td>181.0</td>\n",
              "      <td>D</td>\n",
              "    </tr>\n",
              "  </tbody>\n",
              "</table>\n",
              "</div>\n",
              "      <button class=\"colab-df-convert\" onclick=\"convertToInteractive('df-c63e98b1-146f-4ce0-b74a-25d5f7b35d72')\"\n",
              "              title=\"Convert this dataframe to an interactive table.\"\n",
              "              style=\"display:none;\">\n",
              "        \n",
              "  <svg xmlns=\"http://www.w3.org/2000/svg\" height=\"24px\"viewBox=\"0 0 24 24\"\n",
              "       width=\"24px\">\n",
              "    <path d=\"M0 0h24v24H0V0z\" fill=\"none\"/>\n",
              "    <path d=\"M18.56 5.44l.94 2.06.94-2.06 2.06-.94-2.06-.94-.94-2.06-.94 2.06-2.06.94zm-11 1L8.5 8.5l.94-2.06 2.06-.94-2.06-.94L8.5 2.5l-.94 2.06-2.06.94zm10 10l.94 2.06.94-2.06 2.06-.94-2.06-.94-.94-2.06-.94 2.06-2.06.94z\"/><path d=\"M17.41 7.96l-1.37-1.37c-.4-.4-.92-.59-1.43-.59-.52 0-1.04.2-1.43.59L10.3 9.45l-7.72 7.72c-.78.78-.78 2.05 0 2.83L4 21.41c.39.39.9.59 1.41.59.51 0 1.02-.2 1.41-.59l7.78-7.78 2.81-2.81c.8-.78.8-2.07 0-2.86zM5.41 20L4 18.59l7.72-7.72 1.47 1.35L5.41 20z\"/>\n",
              "  </svg>\n",
              "      </button>\n",
              "      \n",
              "  <style>\n",
              "    .colab-df-container {\n",
              "      display:flex;\n",
              "      flex-wrap:wrap;\n",
              "      gap: 12px;\n",
              "    }\n",
              "\n",
              "    .colab-df-convert {\n",
              "      background-color: #E8F0FE;\n",
              "      border: none;\n",
              "      border-radius: 50%;\n",
              "      cursor: pointer;\n",
              "      display: none;\n",
              "      fill: #1967D2;\n",
              "      height: 32px;\n",
              "      padding: 0 0 0 0;\n",
              "      width: 32px;\n",
              "    }\n",
              "\n",
              "    .colab-df-convert:hover {\n",
              "      background-color: #E2EBFA;\n",
              "      box-shadow: 0px 1px 2px rgba(60, 64, 67, 0.3), 0px 1px 3px 1px rgba(60, 64, 67, 0.15);\n",
              "      fill: #174EA6;\n",
              "    }\n",
              "\n",
              "    [theme=dark] .colab-df-convert {\n",
              "      background-color: #3B4455;\n",
              "      fill: #D2E3FC;\n",
              "    }\n",
              "\n",
              "    [theme=dark] .colab-df-convert:hover {\n",
              "      background-color: #434B5C;\n",
              "      box-shadow: 0px 1px 3px 1px rgba(0, 0, 0, 0.15);\n",
              "      filter: drop-shadow(0px 1px 2px rgba(0, 0, 0, 0.3));\n",
              "      fill: #FFFFFF;\n",
              "    }\n",
              "  </style>\n",
              "\n",
              "      <script>\n",
              "        const buttonEl =\n",
              "          document.querySelector('#df-c63e98b1-146f-4ce0-b74a-25d5f7b35d72 button.colab-df-convert');\n",
              "        buttonEl.style.display =\n",
              "          google.colab.kernel.accessAllowed ? 'block' : 'none';\n",
              "\n",
              "        async function convertToInteractive(key) {\n",
              "          const element = document.querySelector('#df-c63e98b1-146f-4ce0-b74a-25d5f7b35d72');\n",
              "          const dataTable =\n",
              "            await google.colab.kernel.invokeFunction('convertToInteractive',\n",
              "                                                     [key], {});\n",
              "          if (!dataTable) return;\n",
              "\n",
              "          const docLinkHtml = 'Like what you see? Visit the ' +\n",
              "            '<a target=\"_blank\" href=https://colab.research.google.com/notebooks/data_table.ipynb>data table notebook</a>'\n",
              "            + ' to learn more about interactive tables.';\n",
              "          element.innerHTML = '';\n",
              "          dataTable['output_type'] = 'display_data';\n",
              "          await google.colab.output.renderOutput(dataTable, element);\n",
              "          const docLink = document.createElement('div');\n",
              "          docLink.innerHTML = docLinkHtml;\n",
              "          element.appendChild(docLink);\n",
              "        }\n",
              "      </script>\n",
              "    </div>\n",
              "  </div>\n",
              "  "
            ]
          },
          "metadata": {},
          "execution_count": 10
        }
      ],
      "source": [
        "# 參考方法：使用 df.map()\n",
        "# 觀察是否有將特徵值轉換成功\n",
        "gender_mapping={'M':1,\n",
        "        'F':0}\n",
        "df['gender']=np.asarray(df['gender'].map(gender_mapping)).astype(np.int32)\n",
        "df.head()"
      ]
    },
    {
      "cell_type": "markdown",
      "metadata": {
        "id": "fGuK9LLwkUhR"
      },
      "source": [
        "## 2.3 Label Encoding: A B C D -> 0 1 2 3"
      ]
    },
    {
      "cell_type": "code",
      "execution_count": 11,
      "metadata": {
        "colab": {
          "base_uri": "https://localhost:8080/",
          "height": 282
        },
        "id": "WuaCJdtgkNVy",
        "outputId": "e12c7498-ddb7-47a1-abfa-61077918dfc9"
      },
      "outputs": [
        {
          "output_type": "execute_result",
          "data": {
            "text/plain": [
              "<matplotlib.axes._subplots.AxesSubplot at 0x7f995a8d8f90>"
            ]
          },
          "metadata": {},
          "execution_count": 11
        },
        {
          "output_type": "display_data",
          "data": {
            "text/plain": [
              "<Figure size 432x288 with 1 Axes>"
            ],
            "image/png": "[encoded data removed]"
          },
          "metadata": {
            "needs_background": "light"
          }
        }
      ],
      "source": [
        "# 觀察每個類別的數量：df[].value_counts().plot()\n",
        "df['class'].value_counts().sort_values().plot(kind = 'barh')"
      ]
    },
    {
      "cell_type": "code",
      "execution_count": 12,
      "metadata": {
        "colab": {
          "base_uri": "https://localhost:8080/",
          "height": 206
        },
        "id": "AhgT6t3WkdzV",
        "outputId": "6658e2b5-6c7c-4d80-c504-369664b1f1fe"
      },
      "outputs": [
        {
          "output_type": "execute_result",
          "data": {
            "text/plain": [
              "    age  gender  height_cm  weight_kg  body fat_%  diastolic  systolic  \\\n",
              "0  29.0       0      158.5      53.32        23.1       78.0     138.0   \n",
              "1  55.0       1      168.0      63.10        18.3       69.0     116.0   \n",
              "2  21.0       1      170.4     107.90        42.1       85.0     136.0   \n",
              "3  21.0       0      162.4      62.20        33.9       69.0     121.0   \n",
              "4  40.0       1      164.0      79.10        31.1       85.0     142.0   \n",
              "\n",
              "   gripForce  sit and bend forward_cm  sit-ups counts  broad jump_cm  class  \n",
              "0       28.4                     19.2            43.0          169.0    0.0  \n",
              "1       38.7                     17.5            34.0          195.0    1.0  \n",
              "2       49.5                      5.9            37.0          200.0    3.0  \n",
              "3       29.3                     22.2            41.0          185.0    1.0  \n",
              "4       29.0                      3.2            35.0          181.0    3.0  "
            ],
            "text/html": [
              "\n",
              "  <div id=\"df-55500a03-c0fb-45c5-bb9b-cd531a8fe3d4\">\n",
              "    <div class=\"colab-df-container\">\n",
              "      <div>\n",
              "<style scoped>\n",
              "    .dataframe tbody tr th:only-of-type {\n",
              "        vertical-align: middle;\n",
              "    }\n",
              "\n",
              "    .dataframe tbody tr th {\n",
              "        vertical-align: top;\n",
              "    }\n",
              "\n",
              "    .dataframe thead th {\n",
              "        text-align: right;\n",
              "    }\n",
              "</style>\n",
              "<table border=\"1\" class=\"dataframe\">\n",
              "  <thead>\n",
              "    <tr style=\"text-align: right;\">\n",
              "      <th></th>\n",
              "      <th>age</th>\n",
              "      <th>gender</th>\n",
              "      <th>height_cm</th>\n",
              "      <th>weight_kg</th>\n",
              "      <th>body fat_%</th>\n",
              "      <th>diastolic</th>\n",
              "      <th>systolic</th>\n",
              "      <th>gripForce</th>\n",
              "      <th>sit and bend forward_cm</th>\n",
              "      <th>sit-ups counts</th>\n",
              "      <th>broad jump_cm</th>\n",
              "      <th>class</th>\n",
              "    </tr>\n",
              "  </thead>\n",
              "  <tbody>\n",
              "    <tr>\n",
              "      <th>0</th>\n",
              "      <td>29.0</td>\n",
              "      <td>0</td>\n",
              "      <td>158.5</td>\n",
              "      <td>53.32</td>\n",
              "      <td>23.1</td>\n",
              "      <td>78.0</td>\n",
              "      <td>138.0</td>\n",
              "      <td>28.4</td>\n",
              "      <td>19.2</td>\n",
              "      <td>43.0</td>\n",
              "      <td>169.0</td>\n",
              "      <td>0.0</td>\n",
              "    </tr>\n",
              "    <tr>\n",
              "      <th>1</th>\n",
              "      <td>55.0</td>\n",
              "      <td>1</td>\n",
              "      <td>168.0</td>\n",
              "      <td>63.10</td>\n",
              "      <td>18.3</td>\n",
              "      <td>69.0</td>\n",
              "      <td>116.0</td>\n",
              "      <td>38.7</td>\n",
              "      <td>17.5</td>\n",
              "      <td>34.0</td>\n",
              "      <td>195.0</td>\n",
              "      <td>1.0</td>\n",
              "    </tr>\n",
              "    <tr>\n",
              "      <th>2</th>\n",
              "      <td>21.0</td>\n",
              "      <td>1</td>\n",
              "      <td>170.4</td>\n",
              "      <td>107.90</td>\n",
              "      <td>42.1</td>\n",
              "      <td>85.0</td>\n",
              "      <td>136.0</td>\n",
              "      <td>49.5</td>\n",
              "      <td>5.9</td>\n",
              "      <td>37.0</td>\n",
              "      <td>200.0</td>\n",
              "      <td>3.0</td>\n",
              "    </tr>\n",
              "    <tr>\n",
              "      <th>3</th>\n",
              "      <td>21.0</td>\n",
              "      <td>0</td>\n",
              "      <td>162.4</td>\n",
              "      <td>62.20</td>\n",
              "      <td>33.9</td>\n",
              "      <td>69.0</td>\n",
              "      <td>121.0</td>\n",
              "      <td>29.3</td>\n",
              "      <td>22.2</td>\n",
              "      <td>41.0</td>\n",
              "      <td>185.0</td>\n",
              "      <td>1.0</td>\n",
              "    </tr>\n",
              "    <tr>\n",
              "      <th>4</th>\n",
              "      <td>40.0</td>\n",
              "      <td>1</td>\n",
              "      <td>164.0</td>\n",
              "      <td>79.10</td>\n",
              "      <td>31.1</td>\n",
              "      <td>85.0</td>\n",
              "      <td>142.0</td>\n",
              "      <td>29.0</td>\n",
              "      <td>3.2</td>\n",
              "      <td>35.0</td>\n",
              "      <td>181.0</td>\n",
              "      <td>3.0</td>\n",
              "    </tr>\n",
              "  </tbody>\n",
              "</table>\n",
              "</div>\n",
              "      <button class=\"colab-df-convert\" onclick=\"convertToInteractive('df-55500a03-c0fb-45c5-bb9b-cd531a8fe3d4')\"\n",
              "              title=\"Convert this dataframe to an interactive table.\"\n",
              "              style=\"display:none;\">\n",
              "        \n",
              "  <svg xmlns=\"http://www.w3.org/2000/svg\" height=\"24px\"viewBox=\"0 0 24 24\"\n",
              "       width=\"24px\">\n",
              "    <path d=\"M0 0h24v24H0V0z\" fill=\"none\"/>\n",
              "    <path d=\"M18.56 5.44l.94 2.06.94-2.06 2.06-.94-2.06-.94-.94-2.06-.94 2.06-2.06.94zm-11 1L8.5 8.5l.94-2.06 2.06-.94-2.06-.94L8.5 2.5l-.94 2.06-2.06.94zm10 10l.94 2.06.94-2.06 2.06-.94-2.06-.94-.94-2.06-.94 2.06-2.06.94z\"/><path d=\"M17.41 7.96l-1.37-1.37c-.4-.4-.92-.59-1.43-.59-.52 0-1.04.2-1.43.59L10.3 9.45l-7.72 7.72c-.78.78-.78 2.05 0 2.83L4 21.41c.39.39.9.59 1.41.59.51 0 1.02-.2 1.41-.59l7.78-7.78 2.81-2.81c.8-.78.8-2.07 0-2.86zM5.41 20L4 18.59l7.72-7.72 1.47 1.35L5.41 20z\"/>\n",
              "  </svg>\n",
              "      </button>\n",
              "      \n",
              "  <style>\n",
              "    .colab-df-container {\n",
              "      display:flex;\n",
              "      flex-wrap:wrap;\n",
              "      gap: 12px;\n",
              "    }\n",
              "\n",
              "    .colab-df-convert {\n",
              "      background-color: #E8F0FE;\n",
              "      border: none;\n",
              "      border-radius: 50%;\n",
              "      cursor: pointer;\n",
              "      display: none;\n",
              "      fill: #1967D2;\n",
              "      height: 32px;\n",
              "      padding: 0 0 0 0;\n",
              "      width: 32px;\n",
              "    }\n",
              "\n",
              "    .colab-df-convert:hover {\n",
              "      background-color: #E2EBFA;\n",
              "      box-shadow: 0px 1px 2px rgba(60, 64, 67, 0.3), 0px 1px 3px 1px rgba(60, 64, 67, 0.15);\n",
              "      fill: #174EA6;\n",
              "    }\n",
              "\n",
              "    [theme=dark] .colab-df-convert {\n",
              "      background-color: #3B4455;\n",
              "      fill: #D2E3FC;\n",
              "    }\n",
              "\n",
              "    [theme=dark] .colab-df-convert:hover {\n",
              "      background-color: #434B5C;\n",
              "      box-shadow: 0px 1px 3px 1px rgba(0, 0, 0, 0.15);\n",
              "      filter: drop-shadow(0px 1px 2px rgba(0, 0, 0, 0.3));\n",
              "      fill: #FFFFFF;\n",
              "    }\n",
              "  </style>\n",
              "\n",
              "      <script>\n",
              "        const buttonEl =\n",
              "          document.querySelector('#df-55500a03-c0fb-45c5-bb9b-cd531a8fe3d4 button.colab-df-convert');\n",
              "        buttonEl.style.display =\n",
              "          google.colab.kernel.accessAllowed ? 'block' : 'none';\n",
              "\n",
              "        async function convertToInteractive(key) {\n",
              "          const element = document.querySelector('#df-55500a03-c0fb-45c5-bb9b-cd531a8fe3d4');\n",
              "          const dataTable =\n",
              "            await google.colab.kernel.invokeFunction('convertToInteractive',\n",
              "                                                     [key], {});\n",
              "          if (!dataTable) return;\n",
              "\n",
              "          const docLinkHtml = 'Like what you see? Visit the ' +\n",
              "            '<a target=\"_blank\" href=https://colab.research.google.com/notebooks/data_table.ipynb>data table notebook</a>'\n",
              "            + ' to learn more about interactive tables.';\n",
              "          element.innerHTML = '';\n",
              "          dataTable['output_type'] = 'display_data';\n",
              "          await google.colab.output.renderOutput(dataTable, element);\n",
              "          const docLink = document.createElement('div');\n",
              "          docLink.innerHTML = docLinkHtml;\n",
              "          element.appendChild(docLink);\n",
              "        }\n",
              "      </script>\n",
              "    </div>\n",
              "  </div>\n",
              "  "
            ]
          },
          "metadata": {},
          "execution_count": 12
        }
      ],
      "source": [
        "# 將原本資料的類別標籤轉成適當的資料型態\n",
        "# 參考做法:\n",
        "# 1. from sklearn.preprocessing import LabelEncoder\n",
        "# 2. LabelEncoder() 的 fit_transform 轉換 df 類別標籤\n",
        "from sklearn.preprocessing import LabelEncoder\n",
        "class_mapping={'A':0,\n",
        "        'B':1,\n",
        "        'C':2,\n",
        "        'D':3}\n",
        "df['class']=np.asarray(df['class'].map(class_mapping)).astype(np.float32)\n",
        "df.head()"
      ]
    },
    {
      "cell_type": "markdown",
      "metadata": {
        "id": "-kCjJs-r8ymQ"
      },
      "source": [
        "## 2.4 \n",
        "1. Split input and output\n",
        "2. Split train and validation data"
      ]
    },
    {
      "cell_type": "code",
      "execution_count": 13,
      "metadata": {
        "id": "f_G2ZyEK_iDS"
      },
      "outputs": [],
      "source": [
        "# 1. df.iloc\n",
        "x = df.iloc[:, :-1]\n",
        "y = df.iloc[:, -1]"
      ]
    },
    {
      "cell_type": "code",
      "execution_count": 14,
      "metadata": {
        "id": "mRuRrWtVkw-K"
      },
      "outputs": [],
      "source": [
        "# 2. train_test_split()\n",
        "x_train, x_valid, y_train, y_valid = train_test_split(x, y, train_size=0.9, random_state=0)"
      ]
    },
    {
      "cell_type": "markdown",
      "metadata": {
        "id": "jd4O-NbHlJJW"
      },
      "source": [
        "## 2.5 Normalization"
      ]
    },
    {
      "cell_type": "code",
      "execution_count": 15,
      "metadata": {
        "id": "G6b4uMsSlH6w"
      },
      "outputs": [],
      "source": [
        "# 1. MinMax: from sklearn.preprocessing import MinMaxScaler\n",
        "# 2. Z-score: from sklearn.preprocessing import StandardScaler\n",
        "# Hint: fit_transform 和 transform 的不同\n",
        "from sklearn.preprocessing import StandardScaler\n",
        "scaler = StandardScaler()\n",
        "x_train =scaler.fit_transform(x_train)\n",
        "x_valid =scaler.transform(x_valid)"
      ]
    },
    {
      "cell_type": "markdown",
      "metadata": {
        "id": "kF9LHSYil7Us"
      },
      "source": [
        "## 3. Machine Learning Model"
      ]
    },
    {
      "cell_type": "code",
      "execution_count": 16,
      "metadata": {
        "id": "XUnFBFrZyNNt"
      },
      "outputs": [],
      "source": [
        "# 團隊分工嘗試不同種分類器的結果（挑選幾種即可）\n",
        "# For Example: \n",
        "# 1. Decision Tree\n",
        "# 2. Random Forest \n",
        "# 3. k-NN\n",
        "# 4. svm\n",
        "# 5. gradient boosting classifier\n",
        "# 6. Neural Network \n",
        "\n",
        "# 進階：對分類器使用 Cross Validation 以及 Hyperparameter Search"
      ]
    },
    {
      "cell_type": "code",
      "execution_count": 17,
      "metadata": {
        "id": "KgvICxMGI7i_"
      },
      "outputs": [],
      "source": [
        "from sklearn.ensemble import RandomForestClassifier\n",
        "\n",
        "# Create a RandomForest\n",
        "rf_model = RandomForestClassifier(n_estimators=2500,random_state=0,oob_score=True,n_jobs=-1,max_features='auto') #建立模型 設置參數\n",
        "# Fit the training data\n",
        "rf_modelfitting = rf_model.fit(x_train,y_train) #帶入資料"
      ]
    },
    {
      "cell_type": "code",
      "execution_count": 18,
      "metadata": {
        "id": "cJD-ZknRI_do",
        "colab": {
          "base_uri": "https://localhost:8080/"
        },
        "outputId": "600bfd14-9578-4eac-d2a9-81c36fa7f575"
      },
      "outputs": [
        {
          "output_type": "stream",
          "name": "stdout",
          "text": [
            "Accuracy on training set is 1.0\n",
            "Accuracy on testing set is 0.7362086258776329\n"
          ]
        }
      ],
      "source": [
        "print(f'Accuracy on training set is { rf_modelfitting.score(x_train,y_train)}')\n",
        "print(f'Accuracy on testing set is { rf_modelfitting.score(x_valid,y_valid)}')"
      ]
    },
    {
      "cell_type": "markdown",
      "metadata": {
        "id": "fsfr4aDemi9h"
      },
      "source": [
        "## 4. Test data and CSV file"
      ]
    },
    {
      "cell_type": "code",
      "execution_count": 19,
      "metadata": {
        "id": "D8N8zCrPJlXX"
      },
      "outputs": [],
      "source": [
        "testset=pd.read_csv('/content/drive/MyDrive/大三上/BCI/Test_data.csv')"
      ]
    },
    {
      "cell_type": "code",
      "execution_count": 20,
      "metadata": {
        "id": "Iu2WkbhqLWfF"
      },
      "outputs": [],
      "source": [
        "testset['gender']=np.asarray(testset['gender'].map(gender_mapping)).astype(np.int32)\n",
        "x_test = scaler.transform(testset)\n",
        "prediction = rf_model.predict(x_test)"
      ]
    },
    {
      "cell_type": "code",
      "execution_count": 21,
      "metadata": {
        "id": "Tde0RXmYKOhk"
      },
      "outputs": [],
      "source": [
        "test_label = pd.DataFrame()\n",
        "test_label['data_id'] = np.arange(1,len(prediction)+1)\n",
        "test_label['level'] = prediction\n",
        "test_label = test_label.sort_values(by='data_id')"
      ]
    },
    {
      "cell_type": "code",
      "execution_count": 22,
      "metadata": {
        "colab": {
          "base_uri": "https://localhost:8080/"
        },
        "id": "UbvkQXS7Oy5y",
        "outputId": "e328a041-f6f3-4801-949d-feda04fb6487"
      },
      "outputs": [
        {
          "output_type": "stream",
          "name": "stderr",
          "text": [
            "/usr/local/lib/python3.7/dist-packages/ipykernel_launcher.py:1: SettingWithCopyWarning: \n",
            "A value is trying to be set on a copy of a slice from a DataFrame\n",
            "\n",
            "See the caveats in the documentation: https://pandas.pydata.org/pandas-docs/stable/user_guide/indexing.html#returning-a-view-versus-a-copy\n",
            "  \"\"\"Entry point for launching an IPython kernel.\n",
            "/usr/local/lib/python3.7/dist-packages/ipykernel_launcher.py:2: SettingWithCopyWarning: \n",
            "A value is trying to be set on a copy of a slice from a DataFrame\n",
            "\n",
            "See the caveats in the documentation: https://pandas.pydata.org/pandas-docs/stable/user_guide/indexing.html#returning-a-view-versus-a-copy\n",
            "  \n",
            "/usr/local/lib/python3.7/dist-packages/ipykernel_launcher.py:3: SettingWithCopyWarning: \n",
            "A value is trying to be set on a copy of a slice from a DataFrame\n",
            "\n",
            "See the caveats in the documentation: https://pandas.pydata.org/pandas-docs/stable/user_guide/indexing.html#returning-a-view-versus-a-copy\n",
            "  This is separate from the ipykernel package so we can avoid doing imports until\n",
            "/usr/local/lib/python3.7/dist-packages/ipykernel_launcher.py:4: SettingWithCopyWarning: \n",
            "A value is trying to be set on a copy of a slice from a DataFrame\n",
            "\n",
            "See the caveats in the documentation: https://pandas.pydata.org/pandas-docs/stable/user_guide/indexing.html#returning-a-view-versus-a-copy\n",
            "  after removing the cwd from sys.path.\n"
          ]
        }
      ],
      "source": [
        "test_label['level'][test_label['level']==0] = 'A'\n",
        "test_label['level'][test_label['level']==1] = 'B'\n",
        "test_label['level'][test_label['level']==2] = 'C'\n",
        "test_label['level'][test_label['level']==3] = 'D'"
      ]
    },
    {
      "cell_type": "code",
      "execution_count": 23,
      "metadata": {
        "id": "jIyIuAaPm73n"
      },
      "outputs": [],
      "source": [
        "# 將預測結果與 data_id 輸出成 submission.csv 的格式\n",
        "# 參考作法：\n",
        "# 1. pd.DataFrame()\n",
        "# 2. dataframe 欄位值處理\n",
        "# 3. 將 prediction 結果轉成 submission.csv 檔案內要求的型態\n",
        "# 4. df.to_csv()\n",
        "test_label.to_csv('submission.csv',index = False)"
      ]
    }
  ],
  "metadata": {
    "accelerator": "GPU",
    "colab": {
      "collapsed_sections": [],
      "provenance": []
    },
    "gpuClass": "standard",
    "kernelspec": {
      "display_name": "Python 3",
      "name": "python3"
    },
    "language_info": {
      "name": "python"
    }
  },
  "nbformat": 4,
  "nbformat_minor": 0
}